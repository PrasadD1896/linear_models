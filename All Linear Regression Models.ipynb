{
 "cells": [
  {
   "cell_type": "markdown",
   "id": "668f0e76",
   "metadata": {},
   "source": [
    "# Linear Regression Models"
   ]
  },
  {
   "cell_type": "markdown",
   "id": "9bcac3e0",
   "metadata": {},
   "source": [
    "## Creator : Prasad Deshmukh\n",
    "## LinkedIn : https://www.linkedin.com/in/prasad-deshmukh-b55b51221\n",
    "## Github : https://github.com/PrasadD1896\n",
    "## Medium :  https://medium.com/@prasaddeshmukh1896"
   ]
  },
  {
   "cell_type": "markdown",
   "id": "0cef7e3c",
   "metadata": {},
   "source": [
    "## Introduction:"
   ]
  },
  {
   "cell_type": "markdown",
   "id": "f01c6757",
   "metadata": {},
   "source": [
    "Linear regression is a type of statistical modeling technique that is used to estimate the relationship between a dependent variable (also known as the response variable) and one or more independent variables (also known as the predictor variables). The goal of linear regression is to find the best-fitting line or curve that describes the relationship between the variables.\n",
    "\n",
    "In simple linear regression, there is only one independent variable and one dependent variable, and the relationship between them is assumed to be linear. The equation for a simple linear regression model is y = mx + b, where y is the dependent variable, x is the independent variable, m is the slope of the line, and b is the y-intercept.\n",
    "\n",
    "In multiple linear regression, there are multiple independent variables and one dependent variable, and the relationship between them is still assumed to be linear. The equation for a multiple linear regression model is y = b0 + b1x1 + b2x2 + ... + bnxn, where y is the dependent variable, x1, x2, ..., xn are the independent variables, and b0, b1, b2, ..., bn are the coefficients that describe the relationship between the variables.\n",
    "\n",
    "Linear regression models are commonly used in many fields, including economics, finance, social sciences, and engineering, among others. They can be used to make predictions, identify relationships between variables, and test hypotheses."
   ]
  },
  {
   "cell_type": "markdown",
   "id": "41d80adf",
   "metadata": {},
   "source": [
    "## Applications of Linear Regression:"
   ]
  },
  {
   "cell_type": "markdown",
   "id": "81c33fe7",
   "metadata": {},
   "source": [
    "Linear regression has numerous applications across a variety of fields, and some common examples include:\n",
    "\n",
    "1. Predictive analysis: Linear regression can be used to predict future values of a dependent variable based on the values of independent variables. For example, a company might use linear regression to predict future sales based on factors such as advertising spending, pricing, and seasonality.\n",
    "\n",
    "2. Risk analysis: Linear regression can be used to assess the relationship between risk factors and outcomes. For example, a   financial institution might use linear regression to predict the risk of default based on factors such as credit score, debt-to-income ratio, and loan amount.\n",
    "\n",
    "3. Quality control: Linear regression can be used to identify factors that affect the quality of a product or process. For example, a manufacturer might use linear regression to identify factors that affect the strength of a material, such as temperature and pressure.\n",
    "\n",
    "4. Marketing research: Linear regression can be used to analyze the relationship between marketing efforts and customer behavior. For example, a retailer might use linear regression to analyze the relationship between advertising spending and sales.\n",
    "\n",
    "5. Environmental science: Linear regression can be used to analyze the relationship between environmental factors and outcomes. For example, a scientist might use linear regression to analyze the relationship between temperature and the growth of a particular species.\n",
    "\n",
    "Overall, linear regression is a powerful tool for analyzing relationships between variables and making predictions. Its versatility and broad range of applications make it a valuable tool in many different fields."
   ]
  },
  {
   "cell_type": "markdown",
   "id": "06e1708e",
   "metadata": {},
   "source": [
    "## Different Types of Linear Regression:"
   ]
  },
  {
   "cell_type": "markdown",
   "id": "73204b05",
   "metadata": {},
   "source": [
    "There are several types of linear regression models, some of the most common ones are:\n",
    "\n",
    "1. Simple Linear Regression: This is the simplest type of linear regression model, which involves only one independent variable and one dependent variable. It is used to model the linear relationship between the two variables.\n",
    "\n",
    "2. Multiple Linear Regression: This model involves more than one independent variable and one dependent variable. It is used to model the linear relationship between the dependent variable and multiple independent variables.\n",
    "\n",
    "3. Polynomial Regression: This model involves a nonlinear relationship between the dependent variable and independent variable(s). It is used when the relationship between the variables cannot be adequately described by a straight line.\n",
    "\n",
    "4. Ridge Regression: This model is a type of linear regression that is used when there is multicollinearity (high correlation) between the independent variables. It adds a penalty term to the regression equation to prevent overfitting.\n",
    "\n",
    "5. Lasso Regression: This model is similar to ridge regression, but it uses a different penalty term that results in some of the coefficients being set to zero. This can be useful for variable selection in situations where there are many independent variables.\n",
    "\n",
    "6. Elastic Net Regression: This model is a combination of ridge and lasso regression, and it is used to handle situations where there are many independent variables with multicollinearity.\n",
    "\n",
    "7. Logistic Regression: This model is used to model the relationship between a binary dependent variable and one or more independent variables. Unlike other types of linear regression, it is used for classification rather than prediction.\n",
    "\n"
   ]
  },
  {
   "cell_type": "markdown",
   "id": "2a951817",
   "metadata": {},
   "source": [
    "Let's understand all one by one."
   ]
  },
  {
   "cell_type": "markdown",
   "id": "2c8a6b4f",
   "metadata": {},
   "source": [
    "## 1. Simple Linear Regression"
   ]
  },
  {
   "cell_type": "markdown",
   "id": "d04cff70",
   "metadata": {},
   "source": [
    "Simple linear regression is a statistical method that allows you to investigate the relationship between two continuous variables, usually denoted as X and Y. The goal of simple linear regression is to find a linear relationship between these two variables, such that changes in X can be used to predict changes in Y.\n",
    "\n",
    "The model takes the form of Y = β0 + β1X + ε, where Y is the dependent variable, X is the independent variable, β0 is the intercept, β1 is the regression coefficient (also known as the slope), and ε is the error term. The error term represents the part of the variation in Y that cannot be explained by the linear relationship with X.\n",
    "\n",
    "To estimate the values of β0 and β1, we can use a method called least squares regression. This involves finding the line that minimizes the sum of the squared differences between the predicted values of Y and the actual values of Y.\n",
    "\n",
    "Once we have estimated the values of β0 and β1, we can use the equation to make predictions about the value of Y based on the value of X. We can also use statistical tests to assess the significance of the relationship between X and Y, as well as the accuracy of your predictions."
   ]
  },
  {
   "cell_type": "code",
   "execution_count": 1,
   "id": "1e132a07",
   "metadata": {},
   "outputs": [
    {
     "data": {
      "image/png": "[encoded data removed]",
      "text/plain": [
       "<Figure size 432x288 with 1 Axes>"
      ]
     },
     "metadata": {
      "needs_background": "light"
     },
     "output_type": "display_data"
    }
   ],
   "source": [
    "#Let's import required libraries\n",
    "import numpy as np\n",
    "import matplotlib.pyplot as plt\n",
    "from sklearn.linear_model import LinearRegression\n",
    "\n",
    "# Let's create some sample data\n",
    "x = np.array([1, 2, 3, 4, 5, 6, 7, 8, 9])\n",
    "y = np.array([1, 4, 9, 16, 25, 36, 49, 64, 81])\n",
    "\n",
    "# We need to reshape the data to fit the model\n",
    "x = x.reshape(-1, 1)\n",
    "y = y.reshape(-1, 1)\n",
    "\n",
    "# Let's create a linear regression object\n",
    "model = LinearRegression()\n",
    "\n",
    "# Let's fit the model to the data\n",
    "model.fit(x, y)\n",
    "\n",
    "# Let's try making predictions using the model\n",
    "y_pred = model.predict(x)\n",
    "\n",
    "# Let's plot the data and the regression line\n",
    "plt.scatter(x, y)\n",
    "plt.plot(x, y_pred, color='red')\n",
    "plt.xlabel('x')\n",
    "plt.ylabel('y')\n",
    "plt.show()\n"
   ]
  },
  {
   "cell_type": "markdown",
   "id": "5ef959f9",
   "metadata": {},
   "source": [
    "## 2. Multiple Linear Regression"
   ]
  },
  {
   "cell_type": "markdown",
   "id": "4892abf2",
   "metadata": {},
   "source": [
    "Multiple linear regression is a statistical method that extends the idea of simple linear regression to include multiple independent variables. The goal of multiple linear regression is to find a linear relationship between a dependent variable (Y) and two or more independent variables (X1, X2, X3, etc.), such that changes in these independent variables can be used to predict changes in the dependent variable.\n",
    "\n",
    "The model takes the form of Y = β0 + β1X1 + β2X2 + β3X3 + ... + ε, where Y is the dependent variable, X1, X2, X3, etc. are the independent variables, β0 is the intercept, β1, β2, β3, etc. are the regression coefficients (also known as the slopes), and ε is the error term. The error term represents the part of the variation in Y that cannot be explained by the linear relationship with X1, X2, X3, etc.\n",
    "\n",
    "To estimate the values of β0, β1, β2, β3, etc., we can use a method called least squares regression. This involves finding the line that minimizes the sum of the squared differences between the predicted values of Y and the actual values of Y.\n",
    "\n",
    "Once you have estimated the values of β0, β1, β2, β3, etc., we can use the equation to make predictions about the value of Y based on the values of X1, X2, X3, etc. We can also use statistical tests to assess the significance of the relationship between the independent variables and the dependent variable, as well as the accuracy of your predictions."
   ]
  },
  {
   "cell_type": "code",
   "execution_count": 2,
   "id": "309d0c9a",
   "metadata": {},
   "outputs": [
    {
     "name": "stdout",
     "output_type": "stream",
     "text": [
      "3.3333333333333335 [0.11111111 0.11111111 0.11111111]\n"
     ]
    }
   ],
   "source": [
    "# Let's import required libraries\n",
    "import numpy as np\n",
    "from sklearn.linear_model import LinearRegression\n",
    "\n",
    "# Let's Generate some sample data\n",
    "X = np.array([[1, 2, 3], [4, 5, 6], [7, 8, 9]])\n",
    "y = np.array([4, 5, 6])\n",
    "\n",
    "# Let's Create the linear regression model\n",
    "model = LinearRegression()\n",
    "\n",
    "# Fit the model to the data\n",
    "model.fit(X, y)\n",
    "\n",
    "# Print the model coefficients\n",
    "print(model.intercept_, model.coef_)"
   ]
  },
  {
   "cell_type": "markdown",
   "id": "e78143ab",
   "metadata": {},
   "source": [
    "In this example, the independent variable matrix X has 3 columns (X1, X2, X3) and 3 rows of data. The dependent variable y is a vector of length 3.\n",
    "\n",
    "The LinearRegression() function creates a new linear regression model object, and the fit() method fits the model to the data. The intercept_ attribute contains the intercept (β0), and the coef_ attribute contains the regression coefficients (β1, β2, β3, etc.).\n",
    "\n",
    "Once the model is fitted, you can use the predict() method to make predictions for new data."
   ]
  },
  {
   "cell_type": "markdown",
   "id": "41bd5a23",
   "metadata": {},
   "source": [
    "## 3. Polynomial Linear Regression Model"
   ]
  },
  {
   "cell_type": "markdown",
   "id": "c739a968",
   "metadata": {},
   "source": [
    "Polynomial linear regression is a type of linear regression in which the relationship between the independent variable X and dependent variable Y is modeled as an nth degree polynomial. It is useful when the relationship between X and Y is not linear, but can be approximated by a polynomial function.\n",
    "\n",
    "The polynomial regression model takes the form of:\n",
    "\n",
    "Y = β0 + β1X + β2X^2 + β3X^3 + ... + βnX^n + ε\n",
    "\n",
    "where Y is the dependent variable, X is the independent variable, β0 is the intercept, β1, β2, β3, ..., βn are the regression coefficients, X^2, X^3, ..., X^n are the higher-order terms of X, and ε is the error term.\n",
    "\n",
    "To estimate the values of β0, β1, β2, β3, ..., βn, we can use a method called least squares regression. This involves finding the polynomial function that minimizes the sum of the squared differences between the predicted values of Y and the actual values of Y."
   ]
  },
  {
   "cell_type": "code",
   "execution_count": 3,
   "id": "9aa1b01e",
   "metadata": {},
   "outputs": [
    {
     "name": "stdout",
     "output_type": "stream",
     "text": [
      "1.0000000000000053 [0.         2.54285714 0.14285714]\n"
     ]
    }
   ],
   "source": [
    "# Let's import required libraries\n",
    "import numpy as np\n",
    "from sklearn.linear_model import LinearRegression\n",
    "from sklearn.preprocessing import PolynomialFeatures\n",
    "\n",
    "# Let's Generate some sample data\n",
    "X = np.array([1, 2, 3, 4, 5]).reshape((-1, 1))\n",
    "y = np.array([3, 8, 10, 12, 18])\n",
    "\n",
    "# Let's Create polynomial features of degree 2\n",
    "poly = PolynomialFeatures(degree=2)\n",
    "X_poly = poly.fit_transform(X)\n",
    "\n",
    "# Let's Create the linear regression model\n",
    "model = LinearRegression()\n",
    "\n",
    "# Fit the model to the data\n",
    "model.fit(X_poly, y)\n",
    "\n",
    "# Print the model coefficients\n",
    "print(model.intercept_, model.coef_)"
   ]
  },
  {
   "cell_type": "markdown",
   "id": "913dc803",
   "metadata": {},
   "source": [
    "## 4. Ridge Regression Model"
   ]
  },
  {
   "cell_type": "markdown",
   "id": "e7564d99",
   "metadata": {},
   "source": [
    "Ridge regression is a type of linear regression that is used to handle multicollinearity (i.e., when two or more independent variables are highly correlated with each other) in the dataset. Ridge regression adds a penalty term to the sum of squared errors in the linear regression equation to shrink the regression coefficients towards zero, thereby reducing the variance of the estimates.\n",
    "\n",
    "The ridge regression equation takes the following form:\n",
    "\n",
    "Y = β0 + β1X1 + β2X2 + β3X3 + ... + βnXn + ε\n",
    "where Y is the dependent variable, X1, X2, X3, ..., Xn are the independent variables, β0, β1, β2, β3, ..., βn are the regression coefficients, and ε is the error term.\n",
    "\n",
    "To perform ridge regression, we need to determine the value of the regularization parameter (λ) that balances the trade-off between reducing the variance of the estimates and increasing the bias. We can use cross-validation to find the optimal value of λ that minimizes the mean squared error of the model."
   ]
  },
  {
   "cell_type": "code",
   "execution_count": 4,
   "id": "fecd969b",
   "metadata": {},
   "outputs": [
    {
     "name": "stdout",
     "output_type": "stream",
     "text": [
      "3.3486238532110106 [0.11009174 0.11009174 0.11009174]\n"
     ]
    }
   ],
   "source": [
    "from sklearn.linear_model import Ridge\n",
    "import numpy as np\n",
    "\n",
    "# Generate some sample data\n",
    "X = np.array([[1, 2, 3], [4, 5, 6], [7, 8, 9]])\n",
    "y = np.array([4, 5, 6])\n",
    "\n",
    "# Create the Ridge regression model\n",
    "model = Ridge(alpha=0.5)\n",
    "\n",
    "# Fit the model to the data\n",
    "model.fit(X, y)\n",
    "\n",
    "# Print the model coefficients\n",
    "print(model.intercept_, model.coef_)\n"
   ]
  },
  {
   "cell_type": "markdown",
   "id": "7db5e308",
   "metadata": {},
   "source": [
    "## 5. Lasso Regression Model"
   ]
  },
  {
   "cell_type": "markdown",
   "id": "195342f0",
   "metadata": {},
   "source": [
    "Lasso regression is another type of linear regression that is used to handle multicollinearity in the data. Like Ridge regression, it adds a regularization term to the cost function of the linear regression model, but instead of using the sum of squares of the regression coefficients, it uses the absolute value of the regression coefficients.\n",
    "\n",
    "The cost function for Lasso regression is defined as:\n",
    "\n",
    "J(β) = RSS(β) + αΣ|βi|\n",
    "\n",
    "where RSS(β) is the residual sum of squares, βi is the ith regression coefficient, and α is the regularization parameter that controls the strength of the regularization. The Lasso regression model aims to minimize this cost function by adjusting the regression coefficients."
   ]
  },
  {
   "cell_type": "code",
   "execution_count": 5,
   "id": "3033a714",
   "metadata": {},
   "outputs": [
    {
     "name": "stdout",
     "output_type": "stream",
     "text": [
      "4.0 [0.25 0.   0.  ]\n"
     ]
    }
   ],
   "source": [
    "# Let's import required libraries\n",
    "import numpy as np\n",
    "from sklearn.linear_model import Lasso\n",
    "\n",
    "# Let's Generate some sample data\n",
    "X = np.array([[1, 2, 3], [4, 5, 6], [7, 8, 9]])\n",
    "y = np.array([4, 5, 6])\n",
    "\n",
    "# Let's Create the Lasso regression model\n",
    "model = Lasso(alpha=0.5)\n",
    "\n",
    "# Let's Fit the model to the data\n",
    "model.fit(X, y)\n",
    "\n",
    "# Print the model coefficients\n",
    "print(model.intercept_, model.coef_)\n"
   ]
  },
  {
   "cell_type": "markdown",
   "id": "d9dd0fe4",
   "metadata": {},
   "source": [
    "## 6. Elastic Net Regression Model"
   ]
  },
  {
   "cell_type": "markdown",
   "id": "d958bb0f",
   "metadata": {},
   "source": [
    "Elastic Net Regression is a linear regression model that combines the L1 and L2 regularization methods to achieve both feature selection and parameter shrinkage. The L1 regularization method, also known as Lasso, shrinks the less important features to zero, while the L2 regularization method, also known as Ridge, shrinks all features toward zero.\n",
    "\n",
    "The elastic net regression model adds a penalty term that is a combination of the L1 and L2 penalty terms. This penalty term is controlled by a hyperparameter alpha, which determines the degree of regularization. When alpha is set to 0, the model is equivalent to the ordinary least squares regression, while as alpha approaches infinity, all coefficients are shrunk towards zero.\n",
    "\n",
    "The elastic net regression model is useful when dealing with high-dimensional datasets where there are many correlated features. It can handle situations where the number of features is larger than the number of observations, and it can select a group of correlated variables together, unlike Lasso, which tends to select one feature from a group of correlated features.\n"
   ]
  },
  {
   "cell_type": "code",
   "execution_count": 6,
   "id": "2193c17f",
   "metadata": {},
   "outputs": [
    {
     "name": "stdout",
     "output_type": "stream",
     "text": [
      "Mean squared error: 147.57\n"
     ]
    }
   ],
   "source": [
    "# Let's import required libraries\n",
    "from sklearn.linear_model import ElasticNet\n",
    "from sklearn.datasets import make_regression\n",
    "from sklearn.model_selection import train_test_split\n",
    "from sklearn.metrics import mean_squared_error\n",
    "\n",
    "# Let's Generate sample dataset\n",
    "X, y = make_regression(n_features=10, random_state=0)\n",
    "\n",
    "# Let's Split dataset into training and testing set\n",
    "X_train, X_test, y_train, y_test = train_test_split(X, y, random_state=0)\n",
    "\n",
    "# Let's Initialize and fit the model\n",
    "enet = ElasticNet(alpha=0.1, l1_ratio=0.5, random_state=0)\n",
    "enet.fit(X_train, y_train)\n",
    "\n",
    "# Let's Predict on the testing set\n",
    "y_pred = enet.predict(X_test)\n",
    "\n",
    "# Compute mean squared error\n",
    "mse = mean_squared_error(y_test, y_pred)\n",
    "print(\"Mean squared error: {:.2f}\".format(mse))\n"
   ]
  },
  {
   "cell_type": "markdown",
   "id": "d87644b8",
   "metadata": {},
   "source": [
    "In this example, we first generate a sample dataset with 10 features and split it into a training and testing set using the train_test_split() function from scikit-learn. We then initialize an Elastic Net Regression model with an alpha value of 0.1 and an L1 ratio of 0.5. The alpha value controls the degree of regularization, and the L1 ratio determines the balance between L1 and L2 regularization.\n",
    "\n",
    "We then fit the model to the training data using the fit() method, and predict on the testing set using the predict() method. Finally, we compute the mean squared error between the predicted and true values using the mean_squared_error() function from scikit-learn."
   ]
  },
  {
   "cell_type": "markdown",
   "id": "80114de5",
   "metadata": {},
   "source": [
    "## 7. Logistic Regression Model"
   ]
  },
  {
   "cell_type": "markdown",
   "id": "aaaa2cb9",
   "metadata": {},
   "source": [
    "Logistic regression is a statistical method used to analyze and model the relationship between a binary outcome variable and one or more predictor variables. The goal is to estimate the probability of the binary outcome variable (e.g., yes/no, true/false, success/failure) given the values of the predictor variables.\n",
    "\n",
    "Logistic regression is a type of generalized linear model (GLM) that uses a logistic function (also known as a sigmoid function) to transform a linear combination of predictor variables into a predicted probability. The logistic function has an S-shaped curve that ranges from 0 to 1, and it maps any real-valued input to a probability between 0 and 1.\n",
    "\n",
    "The logistic regression model assumes that the relationship between the predictor variables and the binary outcome variable is linear on the logit scale, which means that the log odds of the binary outcome variable is a linear function of the predictor variables. The log odds is the natural logarithm of the odds ratio, which is the ratio of the probability of the binary outcome variable to the probability of the complementary outcome variable.\n",
    "\n",
    "Logistic regression can be used for both binary and multinomial outcomes, as well as for ordinal outcomes using proportional odds logistic regression."
   ]
  },
  {
   "cell_type": "code",
   "execution_count": 7,
   "id": "a3701979",
   "metadata": {},
   "outputs": [
    {
     "name": "stdout",
     "output_type": "stream",
     "text": [
      "Accuracy: 0.97\n"
     ]
    }
   ],
   "source": [
    "# Let's import required libraries\n",
    "from sklearn.linear_model import LogisticRegression\n",
    "from sklearn.datasets import load_iris\n",
    "from sklearn.model_selection import train_test_split\n",
    "from sklearn.metrics import accuracy_score\n",
    "import warnings\n",
    "warnings.filterwarnings('ignore')\n",
    "# Let's Load the iris dataset\n",
    "iris = load_iris()\n",
    "\n",
    "# Let's Split dataset into training and testing set\n",
    "X_train, X_test, y_train, y_test = train_test_split(iris.data, iris.target, random_state=0)\n",
    "\n",
    "# Let's Initialize and fit the model\n",
    "logreg = LogisticRegression()\n",
    "logreg.fit(X_train, y_train)\n",
    "\n",
    "# Let's Predict on the testing set\n",
    "y_pred = logreg.predict(X_test)\n",
    "\n",
    "# Compute accuracy score\n",
    "accuracy = accuracy_score(y_test, y_pred)\n",
    "print(\"Accuracy: {:.2f}\".format(accuracy))\n"
   ]
  },
  {
   "cell_type": "markdown",
   "id": "6e8f7684",
   "metadata": {},
   "source": [
    "## These are some of the most common types of linear regression models, each with its own strengths and weaknesses. The choice of model depends on the specific problem at hand and the data available."
   ]
  },
  {
   "cell_type": "code",
   "execution_count": null,
   "id": "d771e891",
   "metadata": {},
   "outputs": [],
   "source": []
  }
 ],
 "metadata": {
  "kernelspec": {
   "display_name": "Python 3 (ipykernel)",
   "language": "python",
   "name": "python3"
  },
  "language_info": {
   "codemirror_mode": {
    "name": "ipython",
    "version": 3
   },
   "file_extension": ".py",
   "mimetype": "text/x-python",
   "name": "python",
   "nbconvert_exporter": "python",
   "pygments_lexer": "ipython3",
   "version": "3.9.12"
  }
 },
 "nbformat": 4,
 "nbformat_minor": 5
}
